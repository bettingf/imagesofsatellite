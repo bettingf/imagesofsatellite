{
 "cells": [
  {
   "cell_type": "markdown",
   "metadata": {},
   "source": [
    "# Images of satellites classification"
   ]
  },
  {
   "cell_type": "code",
   "execution_count": null,
   "metadata": {
    "collapsed": true
   },
   "outputs": [],
   "source": [
    "from google_images_download import google_images_download   #importing the library\n",
    "import pandas\n",
    "import cv2 #to load and displays images\n",
    "import matplotlib.pyplot as plt\n",
    "import imutils"
   ]
  },
  {
   "cell_type": "markdown",
   "metadata": {},
   "source": [
    "## Download images of satellites / non satellites"
   ]
  },
  {
   "cell_type": "code",
   "execution_count": null,
   "metadata": {
    "collapsed": true
   },
   "outputs": [],
   "source": [
    "nb_images = 2000 # The number of images to download (both from satellite and non satellite images)\n",
    "download = False  # Are we doanloading the images ?\n",
    "chromeDriverPath = \"/usr/bin/chromedriver\""
   ]
  },
  {
   "cell_type": "code",
   "execution_count": null,
   "metadata": {
    "collapsed": true
   },
   "outputs": [],
   "source": [
    "def downloadImages(tags, nbImgs):\n",
    "    response = google_images_download.googleimagesdownload()   #class instantiation\n",
    "\n",
    "    arguments = {\"keywords\":','.join(tags),\"limit\":nbImgs,\"print_urls\":False, \"extract_metadata\":True, \"thumbnail_only\":True, \"chromedriver\":chromeDriverPath}   #creating list of arguments\n",
    "    if download:\n",
    "        response.download(arguments)   #passing the arguments to the function"
   ]
  },
  {
   "cell_type": "markdown",
   "metadata": {},
   "source": [
    "download list of satellites categories"
   ]
  },
  {
   "cell_type": "code",
   "execution_count": null,
   "metadata": {
    "collapsed": true
   },
   "outputs": [],
   "source": [
    "# categories taken from https://www.omicsonline.org/conferences-list/types-of-satellites-and-applications\n",
    "categories = [\"Communications Satellite\",\"Remote Sensing Satellite\",\"Navigation Satellite\",\"LEO satellite\", \n",
    "              \"MEO satellite\", \"HEO satellite\",\"GPS satellite\",\"GEO satellite\",\"Drone Satellite\",\n",
    "              \"Polar Satellite\",\"Nano Satellites\",\"CubeSats\",\"SmallSats\"]"
   ]
  },
  {
   "cell_type": "code",
   "execution_count": null,
   "metadata": {
    "collapsed": true
   },
   "outputs": [],
   "source": [
    "downloadImages(categories, nb_images)"
   ]
  },
  {
   "cell_type": "code",
   "execution_count": null,
   "metadata": {
    "collapsed": true
   },
   "outputs": [],
   "source": [
    "catpd = [pandas.read_json(\"logs/\" + str(cat) + \".json\") for cat in categories]"
   ]
  },
  {
   "cell_type": "markdown",
   "metadata": {},
   "source": [
    "### download of images"
   ]
  },
  {
   "cell_type": "code",
   "execution_count": null,
   "metadata": {
    "collapsed": true
   },
   "outputs": [],
   "source": [
    "downloadImages([\"satellite\",\"images\"], nb_images)"
   ]
  },
  {
   "cell_type": "code",
   "execution_count": null,
   "metadata": {
    "collapsed": true
   },
   "outputs": [],
   "source": [
    "imgpd = pandas.read_json(\"logs/images.json\")\n",
    "satpd = pandas.read_json(\"logs/satellite.json\")"
   ]
  },
  {
   "cell_type": "code",
   "execution_count": null,
   "metadata": {
    "collapsed": true
   },
   "outputs": [],
   "source": [
    "imgpd.image_filename.count(), satpd.image_filename.count()"
   ]
  },
  {
   "cell_type": "code",
   "execution_count": null,
   "metadata": {
    "collapsed": true
   },
   "outputs": [],
   "source": [
    "satpd.iloc[0]"
   ]
  },
  {
   "cell_type": "markdown",
   "metadata": {},
   "source": [
    "### display of the first images"
   ]
  },
  {
   "cell_type": "code",
   "execution_count": null,
   "metadata": {
    "collapsed": true
   },
   "outputs": [],
   "source": [
    "def draw_imgs(imgs_list):\n",
    "    l = int(len(imgs_list))\n",
    "    n = int(len(imgs_list[0]))\n",
    "    _, axs = plt.subplots(l, n, figsize=(15, 15))\n",
    "    axs = axs.flatten()\n",
    "    for img, ax in zip([item for sublist in imgs_list for item in sublist], axs):\n",
    "        ax.imshow(img)\n",
    "    plt.show()"
   ]
  },
  {
   "cell_type": "code",
   "execution_count": null,
   "metadata": {
    "collapsed": true
   },
   "outputs": [],
   "source": [
    "listnonsat = []\n",
    "for i in range(0,7):\n",
    "    img =cv2.imread(\"./downloads/images - thumbnail/\"+imgpd.image_filename[i])\n",
    "    img = cv2.resize(img, (244,244), cv2.INTER_AREA)\n",
    "    img = cv2.cvtColor(img, cv2.COLOR_BGR2RGB)\n",
    "    listnonsat.append(img)\n",
    "    \n",
    "listsat = []\n",
    "for i in range(0,7):\n",
    "    img =cv2.imread(\"./downloads/satellite - thumbnail/\"+satpd.image_filename[i])\n",
    "    img = cv2.resize(img, (244,244), cv2.INTER_AREA)\n",
    "    img = cv2.cvtColor(img, cv2.COLOR_BGR2RGB)\n",
    "    listsat.append(img)\n",
    "    \n",
    "draw_imgs([listnonsat, listsat])\n",
    "\n"
   ]
  },
  {
   "cell_type": "code",
   "execution_count": null,
   "metadata": {
    "collapsed": true
   },
   "outputs": [],
   "source": [
    "listcat = []\n",
    "for current,cat in zip(catpd, categories):\n",
    "    print(cat)\n",
    "    listcurrent = []\n",
    "    for i in range(0,7):\n",
    "        img =cv2.imread(\"./downloads/\"+str(cat)+\" - thumbnail/\"+current.image_filename[i])\n",
    "        img = cv2.resize(img, (244,244), cv2.INTER_AREA)\n",
    "        img = cv2.cvtColor(img, cv2.COLOR_BGR2RGB)\n",
    "        listcurrent.append(img)\n",
    "    listcat.append(listcurrent)\n",
    "    \n",
    "draw_imgs(listcat)"
   ]
  },
  {
   "cell_type": "markdown",
   "metadata": {},
   "source": [
    "## Classify satellite images"
   ]
  },
  {
   "cell_type": "code",
   "execution_count": null,
   "metadata": {
    "collapsed": true
   },
   "outputs": [],
   "source": [
    "listnonsat = []\n",
    "for i in range(0,imgpd.shape[0]):\n",
    "    try:\n",
    "        img =cv2.imread(\"./downloads/images - thumbnail/\"+imgpd.image_filename[i])\n",
    "        img = cv2.resize(img, (244,244), cv2.INTER_AREA)\n",
    "        img = cv2.cvtColor(img, cv2.COLOR_BGR2RGB)\n",
    "        listnonsat.append(img)\n",
    "    except:\n",
    "        print(\"image not resizable\")\n",
    "    \n",
    "listsat = []\n",
    "for i in range(0,satpd.shape[0]):\n",
    "    try:\n",
    "        img =cv2.imread(\"./downloads/satellite - thumbnail/\"+satpd.image_filename[i])\n",
    "        img = cv2.resize(img, (244,244), cv2.INTER_AREA)\n",
    "        img = cv2.cvtColor(img, cv2.COLOR_BGR2RGB)    \n",
    "        listsat.append(img)\n",
    "    except:\n",
    "        print(\"image not resizable\")\n",
    "    "
   ]
  },
  {
   "cell_type": "code",
   "execution_count": null,
   "metadata": {
    "collapsed": true
   },
   "outputs": [],
   "source": [
    "len(listnonsat), len(listsat)"
   ]
  },
  {
   "cell_type": "code",
   "execution_count": null,
   "metadata": {
    "collapsed": true
   },
   "outputs": [],
   "source": [
    "from keras.models import Sequential\n",
    "\n",
    "model = Sequential()"
   ]
  },
  {
   "cell_type": "code",
   "execution_count": null,
   "metadata": {
    "collapsed": true
   },
   "outputs": [],
   "source": []
  }
 ],
 "metadata": {
  "kernelspec": {
   "display_name": "Python 3",
   "language": "python",
   "name": "python3"
  },
  "language_info": {
   "codemirror_mode": {
    "name": "ipython",
    "version": 3
   },
   "file_extension": ".py",
   "mimetype": "text/x-python",
   "name": "python",
   "nbconvert_exporter": "python",
   "pygments_lexer": "ipython3",
   "version": "3.6.8"
  }
 },
 "nbformat": 4,
 "nbformat_minor": 2
}
