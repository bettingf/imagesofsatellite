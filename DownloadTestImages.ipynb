{
 "cells": [
  {
   "cell_type": "code",
   "execution_count": 4,
   "metadata": {},
   "outputs": [
    {
     "name": "stdout",
     "output_type": "stream",
     "text": [
      "\u001b[33m\n",
      "Initializing Headless Chrome...\n",
      "\u001b[0m\n",
      "\u001b[32m\n",
      "Headless Chrome Initialized.\u001b[0m\n",
      "\u001b[33m\n",
      "Retrieving Image URLs...\u001b[0m\n"
     ]
    },
    {
     "name": "stderr",
     "output_type": "stream",
     "text": [
      "\r",
      "Download: N/A% |                                     | ETA:  --:--:--   0.0 s/B"
     ]
    },
    {
     "name": "stdout",
     "output_type": "stream",
     "text": [
      "\u001b[32mImage URLs retrieved.\u001b[0m\n",
      "\u001b[33m\n",
      "Creating Storage Folder...\u001b[0m\n",
      "\u001b[32mStorage Folder - ./satellite created.\u001b[0m\n",
      "\n",
      "Downloading Images for the Query: satellite\n"
     ]
    },
    {
     "name": "stderr",
     "output_type": "stream",
     "text": [
      "Download: 100% |#####################################| Time:  0:02:30   3.3 B/s\n"
     ]
    },
    {
     "name": "stdout",
     "output_type": "stream",
     "text": [
      "\u001b[32m\n",
      "\n",
      "Images Downloaded: 503 of 500 in 2 minutes and 30.96 seconds\n",
      "\u001b[0m\n"
     ]
    }
   ],
   "source": [
    "from giextractor import GoogleImageExtractor\n",
    "\n",
    "imageExtractor = GoogleImageExtractor()\n",
    "imageExtractor.extract_images(imageQuery='satellite', imageCount=500)"
   ]
  },
  {
   "cell_type": "code",
   "execution_count": null,
   "metadata": {
    "collapsed": true
   },
   "outputs": [],
   "source": []
  }
 ],
 "metadata": {
  "kernelspec": {
   "display_name": "Python 3",
   "language": "python",
   "name": "python3"
  },
  "language_info": {
   "codemirror_mode": {
    "name": "ipython",
    "version": 3
   },
   "file_extension": ".py",
   "mimetype": "text/x-python",
   "name": "python",
   "nbconvert_exporter": "python",
   "pygments_lexer": "ipython3",
   "version": "3.6.8"
  }
 },
 "nbformat": 4,
 "nbformat_minor": 2
}
